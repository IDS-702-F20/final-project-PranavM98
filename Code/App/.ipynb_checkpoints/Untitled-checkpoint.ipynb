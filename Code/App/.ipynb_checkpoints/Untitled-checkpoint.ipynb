{
 "cells": [
  {
   "cell_type": "code",
   "execution_count": 46,
   "metadata": {},
   "outputs": [],
   "source": [
    "import pandas as pd\n",
    "import re"
   ]
  },
  {
   "cell_type": "code",
   "execution_count": 4,
   "metadata": {},
   "outputs": [],
   "source": [
    "df=pd.read_csv('test.csv',encoding = \"ISO-8859-1\")"
   ]
  },
  {
   "cell_type": "code",
   "execution_count": 43,
   "metadata": {},
   "outputs": [],
   "source": [
    "'''def convert(string):\n",
    "    for i in range(1,len(string)):\n",
    "        print(i)\n",
    "        print(string[i])\n",
    "        if string[i].isupper():\n",
    "            a=string[:i]\n",
    "            b=string[i:]\n",
    "            s=a +\" \" +b\n",
    "            string=s\n",
    "            print(string)\n",
    "    \n",
    "    return string\n",
    "            \n",
    "            '''\n",
    "        "
   ]
  },
  {
   "cell_type": "code",
   "execution_count": 47,
   "metadata": {},
   "outputs": [
    {
     "name": "stdout",
     "output_type": "stream",
     "text": [
      "YuveYuveYu\n",
      "Yuve Yuve Yu\n"
     ]
    }
   ],
   "source": [
    "for i,r in df.iterrows():\n",
    "    name=df.loc[i,'Name']\n",
    "    print(name)\n",
    "    a=re.sub(r\"(\\w)([A-Z])\", r\"\\1 \\2\", name)\n",
    "    df.loc[i,'Name']=a\n",
    "    \n"
   ]
  },
  {
   "cell_type": "code",
   "execution_count": null,
   "metadata": {},
   "outputs": [],
   "source": []
  }
 ],
 "metadata": {
  "kernelspec": {
   "display_name": "Python 3",
   "language": "python",
   "name": "python3"
  },
  "language_info": {
   "codemirror_mode": {
    "name": "ipython",
    "version": 3
   },
   "file_extension": ".py",
   "mimetype": "text/x-python",
   "name": "python",
   "nbconvert_exporter": "python",
   "pygments_lexer": "ipython3",
   "version": "3.7.4"
  }
 },
 "nbformat": 4,
 "nbformat_minor": 4
}
